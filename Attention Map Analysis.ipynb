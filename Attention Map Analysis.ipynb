{
 "cells": [
  {
   "cell_type": "code",
   "execution_count": 1,
   "metadata": {},
   "outputs": [],
   "source": [
    "import numpy as np\n",
    "import pickle\n",
    "import random\n",
    "import json\n",
    "import os"
   ]
  },
  {
   "cell_type": "code",
   "execution_count": 8,
   "metadata": {},
   "outputs": [],
   "source": [
    "# load generated attention maps\n",
    "att_1 = np.load('boards/pythia_cycle_consistent/3014/gq_50000.npy',allow_pickle=True).item()\n",
    "att_2 = np.load('boards/pythia_cycle_consistent/3014/gq_60000.npy',allow_pickle=True).item()\n",
    "\n",
    "att_3 = np.load('boards/default/30/gq_50000.npy',allow_pickle=True).item()\n",
    "att_4 = np.load('boards/default/30/gq_60000.npy',allow_pickle=True).item()"
   ]
  },
  {
   "cell_type": "code",
   "execution_count": 3,
   "metadata": {},
   "outputs": [],
   "source": [
    "# map implications to its question id\n",
    "\n",
    "map_12 = {}\n",
    "    \n",
    "for i,a in enumerate(att_2['ques_answers']):\n",
    "    qid = int(a['ques_id']/10)\n",
    "    if qid not in map_12:\n",
    "        map_12[qid] = [i]\n",
    "    else:\n",
    "        map_12[qid].append(i)\n",
    "        \n",
    "map_34 = {}\n",
    "\n",
    "for i,a in enumerate(att_4['ques_answers']):\n",
    "    qid = int(a['ques_id']/10)\n",
    "    if qid not in map_34:\n",
    "        map_34[qid] = [i]\n",
    "    else:\n",
    "        map_34[qid].append(i)"
   ]
  },
  {
   "cell_type": "code",
   "execution_count": 4,
   "metadata": {},
   "outputs": [],
   "source": [
    "def bd(a1,a2):\n",
    "    return ((a1 - a2)**2).mean()"
   ]
  },
  {
   "cell_type": "code",
   "execution_count": 5,
   "metadata": {},
   "outputs": [
    {
     "name": "stdout",
     "output_type": "stream",
     "text": [
      "0.0005833019124185433\n",
      "0.0011412140758606032\n"
     ]
    }
   ],
   "source": [
    "dist = 0\n",
    "count = 0\n",
    "for a1 in att_1['ques_answers']:\n",
    "    qid = a1['ques_id']\n",
    "    if qid in map_12:\n",
    "        for idx in map_12[qid]:\n",
    "            a2 = att_2['ques_answers'][idx]\n",
    "            if qid*10+1 == a2['ques_id']:\n",
    "                ori = a1['attention']\n",
    "                le = a2['attention']\n",
    "                dist += bd(ori,le)\n",
    "                count +=1\n",
    "\n",
    "print(dist/count)\n",
    "        \n",
    "dist = 0\n",
    "count = 0\n",
    "for a1 in att_3['ques_answers']:\n",
    "    qid = a1['ques_id']\n",
    "    if qid in map_34:\n",
    "        for idx in map_34[qid]:\n",
    "            a2 = att_4['ques_answers'][idx]\n",
    "            if qid*10+1 == a2['ques_id']:\n",
    "                ori = a1['attention']\n",
    "                le = a2['attention']\n",
    "                dist += bd(ori,le)\n",
    "                count +=1\n",
    "\n",
    "print(dist/count)"
   ]
  },
  {
   "cell_type": "code",
   "execution_count": 6,
   "metadata": {},
   "outputs": [
    {
     "name": "stdout",
     "output_type": "stream",
     "text": [
      "119697\n"
     ]
    }
   ],
   "source": [
    "print(count)"
   ]
  },
  {
   "cell_type": "code",
   "execution_count": 78,
   "metadata": {},
   "outputs": [],
   "source": [
    "imdb = numpy.load('data/imdb_imps/imdb_train2014.npy',allow_pickle=True)"
   ]
  },
  {
   "cell_type": "code",
   "execution_count": 79,
   "metadata": {},
   "outputs": [],
   "source": [
    "from scipy.stats import mode\n",
    "\n",
    "imdb_just_imps = [imdb[0].copy()]\n",
    "_map = {'[1, 0, 0]':1,'[0, 1, 0]':2,'[0, 0, 1]':3}\n",
    "for i in imdb[1:]:\n",
    "    \n",
    "    if i['is_imps']:\n",
    "        vans = mode(i['valid_answers'])[0][0]\n",
    "\n",
    "        for q,a,t in zip(i['qa_tokens'][vans],i['qa_answers'][vans],i['imp_type'][vans]):\n",
    "            cp = i.copy()\n",
    "            cp.pop('qa_tokens',None)\n",
    "            cp.pop('qa_answers',None)\n",
    "            cp.pop('is_imps',None)\n",
    "            cp.pop('imp_type',None)\n",
    "            cp['question_id'] = i['question_id']*10+_map[str(t)]\n",
    "            cp['question_str'] = ' '.join(q)\n",
    "            cp['question_tokens'] = q\n",
    "            cp['valid_answers'] = [a for _ in range(10)]\n",
    "            cp['all_answers'] = [a for _ in range(10)]\n",
    "            imdb_just_imps.append(cp)\n",
    "    "
   ]
  },
  {
   "cell_type": "code",
   "execution_count": 80,
   "metadata": {},
   "outputs": [],
   "source": [
    "pickle.dump(imdb_just_imps,open('data/imdb_just_imps/imdb_train2014.npy','wb'))"
   ]
  },
  {
   "cell_type": "code",
   "execution_count": 7,
   "metadata": {},
   "outputs": [
    {
     "data": {
      "text/plain": [
       "(100, 1)"
      ]
     },
     "execution_count": 7,
     "metadata": {},
     "output_type": "execute_result"
    }
   ],
   "source": [
    "att_3['ques_answers'][6]['attention'].shape"
   ]
  },
  {
   "cell_type": "code",
   "execution_count": null,
   "metadata": {},
   "outputs": [],
   "source": []
  }
 ],
 "metadata": {
  "kernelspec": {
   "display_name": "Python 3",
   "language": "python",
   "name": "python3"
  },
  "language_info": {
   "codemirror_mode": {
    "name": "ipython",
    "version": 3
   },
   "file_extension": ".py",
   "mimetype": "text/x-python",
   "name": "python",
   "nbconvert_exporter": "python",
   "pygments_lexer": "ipython3",
   "version": "3.7.5"
  }
 },
 "nbformat": 4,
 "nbformat_minor": 2
}
